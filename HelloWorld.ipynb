{
  "nbformat": 4,
  "nbformat_minor": 0,
  "metadata": {
    "colab": {
      "name": "HelloWorld.ipynb",
      "provenance": [],
      "collapsed_sections": [],
      "authorship_tag": "ABX9TyOOB4e0AaOYyRHnZdHhSpe5",
      "include_colab_link": true
    },
    "kernelspec": {
      "name": "python3",
      "display_name": "Python 3"
    }
  },
  "cells": [
    {
      "cell_type": "markdown",
      "metadata": {
        "id": "view-in-github",
        "colab_type": "text"
      },
      "source": [
        "<a href=\"https://colab.research.google.com/github/ericnsoares/cursoPython/blob/main/HelloWorld.ipynb\" target=\"_parent\"><img src=\"https://colab.research.google.com/assets/colab-badge.svg\" alt=\"Open In Colab\"/></a>"
      ]
    },
    {
      "cell_type": "markdown",
      "metadata": {
        "id": "zijCYBSrzham"
      },
      "source": [
        "## **Basicão do Python**"
      ]
    },
    {
      "cell_type": "markdown",
      "metadata": {
        "id": "IeqeOTt2z1XA"
      },
      "source": [
        "Saída na tela com print e Comentários\r\n",
        "\r\n"
      ]
    },
    {
      "cell_type": "code",
      "metadata": {
        "colab": {
          "base_uri": "https://localhost:8080/"
        },
        "id": "o8YZLAQSvOU9",
        "outputId": "0f73f024-2253-4a97-8aad-e11bfa486772"
      },
      "source": [
        "print (\"olá mundo!!!\")\r\n",
        "# Comentário"
      ],
      "execution_count": 6,
      "outputs": [
        {
          "output_type": "stream",
          "text": [
            "olá mundo!!!\n"
          ],
          "name": "stdout"
        }
      ]
    },
    {
      "cell_type": "markdown",
      "metadata": {
        "id": "f25SIgHEx5ld"
      },
      "source": [
        "Operações Matemáticas"
      ]
    },
    {
      "cell_type": "code",
      "metadata": {
        "id": "bfM9GkwPx_KZ",
        "outputId": "cc0521d4-49ad-4164-c202-ab8e5c3b10d6",
        "colab": {
          "base_uri": "https://localhost:8080/"
        }
      },
      "source": [
        "print(2 + 3) #soma\r\n",
        "print (2-3) #subtração\r\n",
        "print(2 * 3) #multiplicação\r\n",
        "print (2/3) #divisão\r\n",
        "print (2 % 3) #resto da divisão\r\n",
        "print(2 ** 3) #potencia"
      ],
      "execution_count": 14,
      "outputs": [
        {
          "output_type": "stream",
          "text": [
            "5\n",
            "-1\n",
            "6\n",
            "0.6666666666666666\n",
            "2\n",
            "8\n"
          ],
          "name": "stdout"
        }
      ]
    },
    {
      "cell_type": "markdown",
      "metadata": {
        "id": "xNp7yaKr0DEY"
      },
      "source": [
        "Variáveis"
      ]
    },
    {
      "cell_type": "code",
      "metadata": {
        "id": "0l5YF8fp0G7Z",
        "outputId": "64071af0-5286-4685-f511-a0ac322df9af",
        "colab": {
          "base_uri": "https://localhost:8080/"
        }
      },
      "source": [
        "varString = \"Isso é uma String\"\r\n",
        "print (varString)\r\n",
        "\r\n",
        "varInteira = 1\r\n",
        "print(varInteira)\r\n",
        "\r\n",
        "varFloat = 1.0\r\n",
        "print(varFloat)\r\n",
        "\r\n",
        "varBooleana = True\r\n",
        "print(varBooleana)\r\n"
      ],
      "execution_count": 22,
      "outputs": [
        {
          "output_type": "stream",
          "text": [
            "Isso é uma String\n",
            "1\n",
            "1.0\n",
            "True\n"
          ],
          "name": "stdout"
        }
      ]
    },
    {
      "cell_type": "markdown",
      "metadata": {
        "id": "ApXalY6X1L2x"
      },
      "source": [
        "Operadores Relacionais\r\n",
        "\r\n"
      ]
    },
    {
      "cell_type": "code",
      "metadata": {
        "id": "0NAUT-7q1N9Y",
        "outputId": "3b227f4d-edd4-40cc-879a-5f59f93e5d94",
        "colab": {
          "base_uri": "https://localhost:8080/"
        }
      },
      "source": [
        "x = 2\r\n",
        "y = 3\r\n",
        "\r\n",
        "print(x==y) # x é igual a y?\r\n",
        "print(x<y) # x é menor q y?\r\n",
        "print (x >= y) # x é maior ou igual a y?"
      ],
      "execution_count": 25,
      "outputs": [
        {
          "output_type": "stream",
          "text": [
            "False\n",
            "True\n"
          ],
          "name": "stdout"
        }
      ]
    }
  ]
}
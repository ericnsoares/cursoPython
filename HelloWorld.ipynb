{
  "nbformat": 4,
  "nbformat_minor": 0,
  "metadata": {
    "colab": {
      "name": "HelloWorld.ipynb",
      "provenance": [],
      "collapsed_sections": [],
      "authorship_tag": "ABX9TyMjkspSb+Wez9MWHjCKacEF",
      "include_colab_link": true
    },
    "kernelspec": {
      "name": "python3",
      "display_name": "Python 3"
    }
  },
  "cells": [
    {
      "cell_type": "markdown",
      "metadata": {
        "id": "view-in-github",
        "colab_type": "text"
      },
      "source": [
        "<a href=\"https://colab.research.google.com/github/ericnsoares/cursoPython/blob/main/HelloWorld.ipynb\" target=\"_parent\"><img src=\"https://colab.research.google.com/assets/colab-badge.svg\" alt=\"Open In Colab\"/></a>"
      ]
    },
    {
      "cell_type": "markdown",
      "metadata": {
        "id": "zijCYBSrzham"
      },
      "source": [
        "## **Basicão do Python**"
      ]
    },
    {
      "cell_type": "markdown",
      "metadata": {
        "id": "IeqeOTt2z1XA"
      },
      "source": [
        "Saída na tela com print e Comentários\r\n",
        "\r\n"
      ]
    },
    {
      "cell_type": "code",
      "metadata": {
        "colab": {
          "base_uri": "https://localhost:8080/"
        },
        "id": "o8YZLAQSvOU9",
        "outputId": "0f73f024-2253-4a97-8aad-e11bfa486772"
      },
      "source": [
        "print (\"olá mundo!!!\")\r\n",
        "# Comentário"
      ],
      "execution_count": null,
      "outputs": [
        {
          "output_type": "stream",
          "text": [
            "olá mundo!!!\n"
          ],
          "name": "stdout"
        }
      ]
    }
  ]
}
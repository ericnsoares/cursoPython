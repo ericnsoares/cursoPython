{
  "nbformat": 4,
  "nbformat_minor": 0,
  "metadata": {
    "colab": {
      "name": "Exercícios - Python Básico - Eric Soares.ipynb",
      "provenance": [],
      "collapsed_sections": [],
      "toc_visible": true,
      "authorship_tag": "ABX9TyMIiXxRohoU+ntKweyz1MIO",
      "include_colab_link": true
    },
    "kernelspec": {
      "name": "python3",
      "display_name": "Python 3"
    }
  },
  "cells": [
    {
      "cell_type": "markdown",
      "metadata": {
        "id": "view-in-github",
        "colab_type": "text"
      },
      "source": [
        "<a href=\"https://colab.research.google.com/github/ericnsoares/cursoPython/blob/main/Exerc%C3%ADcios_Python_B%C3%A1sico_Eric_Soares.ipynb\" target=\"_parent\"><img src=\"https://colab.research.google.com/assets/colab-badge.svg\" alt=\"Open In Colab\"/></a>"
      ]
    },
    {
      "cell_type": "markdown",
      "metadata": {
        "id": "zrVfhcMMpyEf"
      },
      "source": [
        "# Estruturas Condicionais"
      ]
    },
    {
      "cell_type": "markdown",
      "metadata": {
        "id": "ZHHiLAuBpt2Z"
      },
      "source": [
        " **Exercício 1**\r\n",
        "\r\n",
        "Faça um programa que faça 5 perguntas para uma pessoa sobre um crime. As perguntas são:\r\n",
        "* \"Telefonou para a vítima?\"\r\n",
        "*\"Esteve no local do crime?\"\r\n",
        "*\"Mora perto da vítima?\"\r\n",
        "*\"Devia para a vítima?\"\r\n",
        "*\"Já trabalhou com a vítima?\"\r\n",
        "\r\n",
        "O programa deve no final emitir uma classificação sobre a participação da pessoa no crime. Se a pessoa responder positivamente a:\r\n",
        "* 2 questões ela deve ser classificada como \"Suspeita\", \r\n",
        "* entre 3 e 4 como \"Cúmplice\" e \r\n",
        "*5 como \"Assassino\".\r\n",
        "* Caso contrário, ele será classificado como \"Inocente\"."
      ]
    },
    {
      "cell_type": "code",
      "metadata": {
        "id": "ETW5H0iQpYZI"
      },
      "source": [
        "perguntas=[\"Telefonou para a vítima?\",\"Esteve no local do crime?\",\"Mora perto da vítima?\",\"Devia para a vítima?\",\"Já trabalhou com a vítima?\"]\r\n"
      ],
      "execution_count": null,
      "outputs": []
    },
    {
      "cell_type": "markdown",
      "metadata": {
        "id": "0rr9ldDUsArM"
      },
      "source": [
        "**Exercício 2** \r\n",
        "\r\n",
        "Um posto está vendendo combustíveis com a seguinte tabela de descontos:\r\n",
        "* Álcool:\r\n",
        ">* até 20 litros, desconto de 3% por litro\r\n",
        ">* acima de 20 litros, desconto de 5% por litro\r\n",
        "* Gasolina:\r\n",
        ">* até 20 litros, desconto de 4% por litro\r\n",
        ">* acima de 20 litros, desconto de 6% por litro\r\n",
        "\r\n",
        "Escreva um algoritmo que leia o número de litros vendidos, o tipo de combustível (codificado da seguinte forma: A- álcool, G-gasolina), calcule e imprima o valor a ser pago pelo cliente sabendo-se que o preço do litro da gasolina é 2,50 e o preço do litro do álcool é 1,90."
      ]
    },
    {
      "cell_type": "code",
      "metadata": {
        "id": "9QvMXqJisA9I"
      },
      "source": [
        "aa"
      ],
      "execution_count": null,
      "outputs": []
    },
    {
      "cell_type": "markdown",
      "metadata": {
        "id": "qgszoQaSs_Tx"
      },
      "source": [
        "**Exercício 3**\r\n",
        "\r\n",
        "Faça um programa que calcule as raízes de uma equação do segundo grau, na forma ax2 + bx + c. O programa deverá pedir os valores de a, b e c e fazer as consistências, informando ao usuário nas seguintes situações:\r\n",
        "\r\n",
        "* Se o usuário informar o valor de A igual a zero, a equação não é do segundo grau e o programa não deve fazer pedir os demais valores,sendo encerrado;\r\n",
        "* Se o delta calculado for negativo,a equação não possui raizes reais. Informe ao usuário e encerre o programa;\r\n",
        "* Se o delta calculado for igual a zero a equação possui apenas uma raiz real; informe-a ao usuário;\r\n",
        "* Se o delta for positivo, a equação possui duas raiz reais; informe-as ao usuário;"
      ]
    },
    {
      "cell_type": "code",
      "metadata": {
        "id": "AHDBN0c8s_iA"
      },
      "source": [
        ""
      ],
      "execution_count": null,
      "outputs": []
    },
    {
      "cell_type": "markdown",
      "metadata": {
        "id": "sGc5ip09rc3M"
      },
      "source": [
        "# Estruturas de Repetição"
      ]
    },
    {
      "cell_type": "markdown",
      "metadata": {
        "id": "16NLg5xItwOR"
      },
      "source": [
        "**Exercício 1**\r\n",
        "\r\n",
        "Faça um programa que imprima na tela os números de 1 a 20, um abaixo do outro. Depois modifique o programa para que ele mostre os números um ao lado do outro."
      ]
    },
    {
      "cell_type": "code",
      "metadata": {
        "id": "gjlvUHq2twct"
      },
      "source": [
        "while i<20"
      ],
      "execution_count": null,
      "outputs": []
    }
  ]
}
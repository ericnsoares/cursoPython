{
  "nbformat": 4,
  "nbformat_minor": 0,
  "metadata": {
    "colab": {
      "name": "Exercícios - Python Básico - Eric Soares.ipynb",
      "provenance": [],
      "collapsed_sections": [],
      "toc_visible": true,
      "authorship_tag": "ABX9TyOhDqg2Wia8C952A87RuXZk",
      "include_colab_link": true
    },
    "kernelspec": {
      "name": "python3",
      "display_name": "Python 3"
    }
  },
  "cells": [
    {
      "cell_type": "markdown",
      "metadata": {
        "id": "view-in-github",
        "colab_type": "text"
      },
      "source": [
        "<a href=\"https://colab.research.google.com/github/ericnsoares/cursoPython/blob/main/Exerc%C3%ADcios_Python_B%C3%A1sico_Eric_Soares.ipynb\" target=\"_parent\"><img src=\"https://colab.research.google.com/assets/colab-badge.svg\" alt=\"Open In Colab\"/></a>"
      ]
    },
    {
      "cell_type": "markdown",
      "metadata": {
        "id": "zrVfhcMMpyEf"
      },
      "source": [
        "# Estruturas Condicionais"
      ]
    },
    {
      "cell_type": "markdown",
      "metadata": {
        "id": "ZHHiLAuBpt2Z"
      },
      "source": [
        " **Exercício 1**\r\n",
        "\r\n",
        "Faça um programa que faça 5 perguntas para uma pessoa sobre um crime. As perguntas são:\r\n",
        "* \"Telefonou para a vítima?\"\r\n",
        "*\"Esteve no local do crime?\"\r\n",
        "*\"Mora perto da vítima?\"\r\n",
        "*\"Devia para a vítima?\"\r\n",
        "*\"Já trabalhou com a vítima?\"\r\n",
        "\r\n",
        "O programa deve no final emitir uma classificação sobre a participação da pessoa no crime. Se a pessoa responder positivamente a:\r\n",
        "* 2 questões ela deve ser classificada como \"Suspeita\", \r\n",
        "* entre 3 e 4 como \"Cúmplice\" e \r\n",
        "*5 como \"Assassino\".\r\n",
        "* Caso contrário, ele será classificado como \"Inocente\"."
      ]
    },
    {
      "cell_type": "code",
      "metadata": {
        "id": "ETW5H0iQpYZI",
        "colab": {
          "base_uri": "https://localhost:8080/"
        },
        "outputId": "cc5e9902-7a81-4a9e-f9f2-13f444c81464"
      },
      "source": [
        "perguntas=[\"Telefonou para a vítima?\",\"Esteve no local do crime?\",\"Mora perto da vítima?\",\"Devia para a vítima?\",\"Já trabalhou com a vítima?\"]\r\n",
        "contador=0\r\n",
        "\r\n",
        "for pergunta in perguntas:\r\n",
        "  resposta = input(pergunta+\" (s/n)\")\r\n",
        "  if resposta == \"s\":\r\n",
        "      contador+=1\r\n",
        "\r\n",
        "if contador == 5:\r\n",
        "    veredito = \"Assasino\"\r\n",
        "elif contador >=3:\r\n",
        "    veredito = \"Cúmplice\"\r\n",
        "elif contador == 2:\r\n",
        "    veredito = \"Suspeita\"\r\n",
        "else:\r\n",
        "    veredito = \"Inocente\"\r\n",
        "\r\n",
        "print (\"O veredito é :\", veredito)\r\n",
        "\r\n",
        "\r\n"
      ],
      "execution_count": 9,
      "outputs": [
        {
          "output_type": "stream",
          "text": [
            "Telefonou para a vítima? (s/n)s\n",
            "Esteve no local do crime? (s/n)s\n",
            "Mora perto da vítima? (s/n)s\n",
            "Devia para a vítima? (s/n)\n",
            "Já trabalhou com a vítima? (s/n)\n",
            "O veredito é : Cúmplice\n"
          ],
          "name": "stdout"
        }
      ]
    },
    {
      "cell_type": "markdown",
      "metadata": {
        "id": "0rr9ldDUsArM"
      },
      "source": [
        "**Exercício 2** \r\n",
        "\r\n",
        "Um posto está vendendo combustíveis com a seguinte tabela de descontos:\r\n",
        "* Álcool:\r\n",
        ">* até 20 litros, desconto de 3% por litro\r\n",
        ">* acima de 20 litros, desconto de 5% por litro\r\n",
        "* Gasolina:\r\n",
        ">* até 20 litros, desconto de 4% por litro\r\n",
        ">* acima de 20 litros, desconto de 6% por litro\r\n",
        "\r\n",
        "Escreva um algoritmo que leia o número de litros vendidos, o tipo de combustível (codificado da seguinte forma: A- álcool, G-gasolina), calcule e imprima o valor a ser pago pelo cliente sabendo-se que o preço do litro da gasolina é 2,50 e o preço do litro do álcool é 1,90."
      ]
    },
    {
      "cell_type": "code",
      "metadata": {
        "id": "9QvMXqJisA9I"
      },
      "source": [
        "aa"
      ],
      "execution_count": null,
      "outputs": []
    },
    {
      "cell_type": "markdown",
      "metadata": {
        "id": "qgszoQaSs_Tx"
      },
      "source": [
        "**Exercício 3**\r\n",
        "\r\n",
        "Faça um programa que calcule as raízes de uma equação do segundo grau, na forma ax2 + bx + c. O programa deverá pedir os valores de a, b e c e fazer as consistências, informando ao usuário nas seguintes situações:\r\n",
        "\r\n",
        "* Se o usuário informar o valor de A igual a zero, a equação não é do segundo grau e o programa não deve fazer pedir os demais valores,sendo encerrado;\r\n",
        "* Se o delta calculado for negativo,a equação não possui raizes reais. Informe ao usuário e encerre o programa;\r\n",
        "* Se o delta calculado for igual a zero a equação possui apenas uma raiz real; informe-a ao usuário;\r\n",
        "* Se o delta for positivo, a equação possui duas raiz reais; informe-as ao usuário;"
      ]
    },
    {
      "cell_type": "code",
      "metadata": {
        "id": "AHDBN0c8s_iA"
      },
      "source": [
        ""
      ],
      "execution_count": null,
      "outputs": []
    },
    {
      "cell_type": "markdown",
      "metadata": {
        "id": "sGc5ip09rc3M"
      },
      "source": [
        "# Estruturas de Repetição"
      ]
    },
    {
      "cell_type": "markdown",
      "metadata": {
        "id": "16NLg5xItwOR"
      },
      "source": [
        "**Exercício 1 e 4**\r\n",
        "\r\n",
        "Faça um programa que imprima na tela os números de 1 a 20, um abaixo do outro. Depois modifique o programa para que ele mostre os números um ao lado do outro."
      ]
    },
    {
      "cell_type": "code",
      "metadata": {
        "colab": {
          "base_uri": "https://localhost:8080/"
        },
        "id": "gjlvUHq2twct",
        "outputId": "0cc39ed0-09eb-494b-c7e1-2b05d77c4329"
      },
      "source": [
        "for i in range(1,21,1):\r\n",
        "  print(i)\r\n",
        "\r\n",
        "lista=[] #Será que é isso o que você espera?\r\n",
        "for i in range(1,21,1):\r\n",
        "  lista.append(i)\r\n",
        "\r\n",
        "print(lista)\r\n"
      ],
      "execution_count": 4,
      "outputs": [
        {
          "output_type": "stream",
          "text": [
            "1\n",
            "2\n",
            "3\n",
            "4\n",
            "5\n",
            "6\n",
            "7\n",
            "8\n",
            "9\n",
            "10\n",
            "11\n",
            "12\n",
            "13\n",
            "14\n",
            "15\n",
            "16\n",
            "17\n",
            "18\n",
            "19\n",
            "20\n",
            "[1, 2, 3, 4, 5, 6, 7, 8, 9, 10, 11, 12, 13, 14, 15, 16, 17, 18, 19, 20]\n"
          ],
          "name": "stdout"
        }
      ]
    },
    {
      "cell_type": "markdown",
      "metadata": {
        "id": "JQRdUO5MvVO2"
      },
      "source": [
        "**Exercício 2**\r\n",
        "\r\n",
        "Faça um programa que imprima na tela apenas os números ímpares entre 1 e um valor n informado pelo usuário."
      ]
    },
    {
      "cell_type": "code",
      "metadata": {
        "id": "LFDbwUJ8vVe1",
        "outputId": "b6c46c9b-18f5-4893-8b3d-ada4fdcca607",
        "colab": {
          "base_uri": "https://localhost:8080/"
        }
      },
      "source": [
        "try :\r\n",
        "  numero =int(input(\"Insira um número inteiro: \"))\r\n",
        "except:\r\n",
        "  print(\"esse não é um inteiro válido\")\r\n",
        "\r\n",
        "for i in range(1,numero+1,1):\r\n",
        "  if i%2==1:\r\n",
        "    print(i)"
      ],
      "execution_count": 14,
      "outputs": [
        {
          "output_type": "stream",
          "text": [
            "Insira um número inteiro: 0\n"
          ],
          "name": "stdout"
        }
      ]
    },
    {
      "cell_type": "markdown",
      "metadata": {
        "id": "b5V398Hyx7Va"
      },
      "source": [
        "**Exercício 3**\r\n",
        "\r\n",
        "Faça um programa que receba dois números quaisquer (inteiros ou reais) e imprima na tela os números inteiros que estão no intervalo compreendido por eles."
      ]
    },
    {
      "cell_type": "code",
      "metadata": {
        "id": "P1W96x9cx7l9",
        "outputId": "8c0766ad-214a-4f3a-bcd6-cd78e7f98dc2",
        "colab": {
          "base_uri": "https://localhost:8080/"
        }
      },
      "source": [
        "try :\r\n",
        "  numero1 =float(input(\"Insira um número inteiro: \"))\r\n",
        "  numero2 =float(input(\"Insira outro número inteiro: \"))\r\n",
        "\r\n",
        "  for i in range(int(round(numero1,0)),int(round(numero2+1,1)),1):\r\n",
        "    if i>= numero1 and i<=numero2:\r\n",
        "      print(i)\r\n",
        "\r\n",
        "except:\r\n",
        "  print(\"esse não é um inteiro válido\")"
      ],
      "execution_count": 34,
      "outputs": [
        {
          "output_type": "stream",
          "text": [
            "Insira um número inteiro: 5.5\n",
            "Insira outro número inteiro: 9.9\n",
            "6\n",
            "7\n",
            "8\n",
            "9\n"
          ],
          "name": "stdout"
        }
      ]
    },
    {
      "cell_type": "markdown",
      "metadata": {
        "id": "3yVsU2E5ygf9"
      },
      "source": [
        "**Exercício 5**\r\n",
        "\r\n",
        "Faça um programa que leia uma quantidade indeterminada de números positivos e conte quantos deles estão nos seguintes intervalos: [0-25], [26-50], [51-75] e [76-100]. A entrada de dados deverá terminar quando for lido um número negativo."
      ]
    },
    {
      "cell_type": "code",
      "metadata": {
        "id": "4XH8AAdmygur"
      },
      "source": [
        ""
      ],
      "execution_count": null,
      "outputs": []
    },
    {
      "cell_type": "markdown",
      "metadata": {
        "id": "JqJj2QKRyyFl"
      },
      "source": [
        "**Exercício 6**\r\n",
        "\r\n",
        "Desenvolver um programa para verificar a nota do aluno em uma prova com 10 questões, o programa deve perguntar ao aluno a resposta de cada questão e ao final comparar com o gabarito da prova e assim calcular o total\r\n",
        "de acertos e a nota (atribuir 1 ponto por resposta certa). \r\n",
        "Após cada aluno utilizar o sistema deve ser feita uma pergunta se outro aluno vai utilizar o sistema. \r\n",
        "Após todos os alunos terem respondido informar:\r\n",
        "* Maior e Menor Acerto;\r\n",
        "* Total de Alunos que utilizaram o sistema;\r\n",
        "* A Média das Notas da Turma"
      ]
    },
    {
      "cell_type": "markdown",
      "metadata": {
        "id": "oiFEnHm1zcHU"
      },
      "source": [
        "# Desafio"
      ]
    },
    {
      "cell_type": "code",
      "metadata": {
        "id": "AmjeChRQyyWN"
      },
      "source": [
        ""
      ],
      "execution_count": null,
      "outputs": []
    }
  ]
}
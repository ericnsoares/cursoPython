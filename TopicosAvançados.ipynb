{
  "nbformat": 4,
  "nbformat_minor": 0,
  "metadata": {
    "colab": {
      "name": "TopicosAvançados.ipynb",
      "provenance": [],
      "toc_visible": true,
      "authorship_tag": "ABX9TyPktmic0xzPGX8CnAQ2TlLD",
      "include_colab_link": true
    },
    "kernelspec": {
      "name": "python3",
      "display_name": "Python 3"
    }
  },
  "cells": [
    {
      "cell_type": "markdown",
      "metadata": {
        "id": "view-in-github",
        "colab_type": "text"
      },
      "source": [
        "<a href=\"https://colab.research.google.com/github/ericnsoares/cursoPython/blob/main/TopicosAvan%C3%A7ados.ipynb\" target=\"_parent\"><img src=\"https://colab.research.google.com/assets/colab-badge.svg\" alt=\"Open In Colab\"/></a>"
      ]
    },
    {
      "cell_type": "markdown",
      "metadata": {
        "id": "I98gaTNIPJ8_"
      },
      "source": [
        "# List Comprehension"
      ]
    },
    {
      "cell_type": "markdown",
      "metadata": {
        "id": "s6TRwx4PO6H9"
      },
      "source": [
        "Cria uma nova lista a partir da aplicação de operações aos items de uma lista existente, em uma única operação."
      ]
    },
    {
      "cell_type": "code",
      "metadata": {
        "id": "n0pgRd5RO3zB",
        "outputId": "02de0736-308f-40c5-8183-6346b304a6f8",
        "colab": {
          "base_uri": "https://localhost:8080/"
        }
      },
      "source": [
        "#nova_lista = [<operacao> <laço> <condicao>]\r\n",
        "lista = [1,2,3,4,5,6,7,8,9,1000]\r\n",
        "print( lista)\r\n",
        "\r\n",
        "lista_mutiplicada = [i*2 for i in lista ] #sem condicao\r\n",
        "print( lista_mutiplicada)\r\n",
        "\r\n",
        "lista_mutiplicada2 = [i*2 for i in lista if i%2==0] #com condicao (número par)\r\n",
        "print( lista_mutiplicada2)"
      ],
      "execution_count": 6,
      "outputs": [
        {
          "output_type": "stream",
          "text": [
            "[1, 2, 3, 4, 5, 6, 7, 8, 9, 1000]\n",
            "[2, 4, 6, 8, 10, 12, 14, 16, 18, 2000]\n",
            "[4, 8, 12, 16, 2000]\n"
          ],
          "name": "stdout"
        }
      ]
    },
    {
      "cell_type": "markdown",
      "metadata": {
        "id": "B5zep9s_PF3C"
      },
      "source": [
        "# Enumerate\r\n",
        "\r\n"
      ]
    },
    {
      "cell_type": "markdown",
      "metadata": {
        "id": "VsAmUjddSovy"
      },
      "source": [
        "Transforma uma lista em um objeto \"enumerate\", uma lista com o índice e o item do objeto na lista original\r\n",
        "\r\n",
        "\r\n",
        "\r\n"
      ]
    },
    {
      "cell_type": "code",
      "metadata": {
        "id": "-bBjD4ZeSpAj",
        "outputId": "5d45ac19-d3f9-4306-9bea-7d4cc61738d5",
        "colab": {
          "base_uri": "https://localhost:8080/"
        }
      },
      "source": [
        "lista =[\"abacate\",\"bola\",\"cachorro\"]\r\n",
        "\r\n",
        "for i, nome in enumerate(lista):\r\n",
        "  print(i,nome)"
      ],
      "execution_count": 8,
      "outputs": [
        {
          "output_type": "stream",
          "text": [
            "0 abacate\n",
            "1 bola\n",
            "2 cachorro\n"
          ],
          "name": "stdout"
        }
      ]
    },
    {
      "cell_type": "markdown",
      "metadata": {
        "id": "w0LY7pP2POjE"
      },
      "source": [
        "# Map"
      ]
    },
    {
      "cell_type": "code",
      "metadata": {
        "id": "az__QXjQTvJj"
      },
      "source": [
        "Aplica uma função a todos os elementos de uma lista"
      ],
      "execution_count": null,
      "outputs": []
    },
    {
      "cell_type": "markdown",
      "metadata": {
        "id": "utsRRweyTptj"
      },
      "source": [
        ""
      ]
    },
    {
      "cell_type": "code",
      "metadata": {
        "id": "1MLdUvy1TqAU",
        "outputId": "08ee14a6-6435-408b-e476-c0e83d71878c",
        "colab": {
          "base_uri": "https://localhost:8080/"
        }
      },
      "source": [
        "def dobro(x):\r\n",
        "  return x*2\r\n",
        "\r\n",
        "lista = [1,2,3,4,5]\r\n",
        "print(lista)\r\n",
        "\r\n",
        "print(dobro(lista)) # dessa forma a lista é dobrada, ou seja, os elementos são repetidos. Não é isso q eu quero\r\n",
        "\r\n",
        "valor_dobrado = list(map(dobro,lista)) #aplica a função 'dobro' a todos os itens da \"lista\" e retorna um \"map\". Para transformá-lo em \"lista\", uso o comanto \"list()\"\"\r\n",
        "print (valor_dobrado)"
      ],
      "execution_count": 15,
      "outputs": [
        {
          "output_type": "stream",
          "text": [
            "[1, 2, 3, 4, 5]\n",
            "[1, 2, 3, 4, 5, 1, 2, 3, 4, 5]\n",
            "[2, 4, 6, 8, 10]\n"
          ],
          "name": "stdout"
        }
      ]
    },
    {
      "cell_type": "markdown",
      "metadata": {
        "id": "2rA3V26DPTNa"
      },
      "source": [
        "# Reduce"
      ]
    },
    {
      "cell_type": "markdown",
      "metadata": {
        "id": "uFOaSd8nVYsP"
      },
      "source": [
        "Recebe uma lista e uma função e retorna um valor único, aplicando a função cumulativamente a cada elemento da lista"
      ]
    },
    {
      "cell_type": "code",
      "metadata": {
        "id": "6a24x1GwVYdx",
        "outputId": "4338f89f-2665-4c83-a791-9ea30976ff10",
        "colab": {
          "base_uri": "https://localhost:8080/"
        }
      },
      "source": [
        "from functools import reduce\r\n",
        "\r\n",
        "def funcao(a,b):\r\n",
        "  return a+b\r\n",
        "\r\n",
        "lista = [1,2,3,4,5,6,7,8,9,10]\r\n",
        "resultado = reduce(funcao,lista)\r\n",
        "print (resultado)\r\n",
        "\r\n",
        "resultado2 = sum(lista)\r\n",
        "print (resultado2)\r\n",
        "\r\n",
        "\r\n"
      ],
      "execution_count": 37,
      "outputs": [
        {
          "output_type": "stream",
          "text": [
            "55\n",
            "55\n"
          ],
          "name": "stdout"
        }
      ]
    },
    {
      "cell_type": "markdown",
      "metadata": {
        "id": "YE5Lb350PXF7"
      },
      "source": [
        "# Zip"
      ]
    },
    {
      "cell_type": "markdown",
      "metadata": {
        "id": "7GveA8grPa1_"
      },
      "source": [
        "# Filter"
      ]
    }
  ]
}
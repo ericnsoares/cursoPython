{
  "nbformat": 4,
  "nbformat_minor": 0,
  "metadata": {
    "colab": {
      "name": "TopicosAvançados.ipynb",
      "provenance": [],
      "toc_visible": true,
      "authorship_tag": "ABX9TyMl5bpttxGi75QxMviRKdpz",
      "include_colab_link": true
    },
    "kernelspec": {
      "name": "python3",
      "display_name": "Python 3"
    }
  },
  "cells": [
    {
      "cell_type": "markdown",
      "metadata": {
        "id": "view-in-github",
        "colab_type": "text"
      },
      "source": [
        "<a href=\"https://colab.research.google.com/github/ericnsoares/cursoPython/blob/main/TopicosAvan%C3%A7ados.ipynb\" target=\"_parent\"><img src=\"https://colab.research.google.com/assets/colab-badge.svg\" alt=\"Open In Colab\"/></a>"
      ]
    },
    {
      "cell_type": "markdown",
      "metadata": {
        "id": "I98gaTNIPJ8_"
      },
      "source": [
        "# List Comprehension"
      ]
    },
    {
      "cell_type": "markdown",
      "metadata": {
        "id": "s6TRwx4PO6H9"
      },
      "source": [
        "Cria uma nova lista a partir da aplicação de operações aos items de uma lista existente, em uma única operação."
      ]
    },
    {
      "cell_type": "code",
      "metadata": {
        "id": "n0pgRd5RO3zB",
        "colab": {
          "base_uri": "https://localhost:8080/"
        },
        "outputId": "02de0736-308f-40c5-8183-6346b304a6f8"
      },
      "source": [
        "#nova_lista = [<operacao> <laço> <condicao>]\r\n",
        "lista = [1,2,3,4,5,6,7,8,9,1000]\r\n",
        "print( lista)\r\n",
        "\r\n",
        "lista_mutiplicada = [i*2 for i in lista ] #sem condicao\r\n",
        "print( lista_mutiplicada)\r\n",
        "\r\n",
        "lista_mutiplicada2 = [i*2 for i in lista if i%2==0] #com condicao (número par)\r\n",
        "print( lista_mutiplicada2)"
      ],
      "execution_count": 6,
      "outputs": [
        {
          "output_type": "stream",
          "text": [
            "[1, 2, 3, 4, 5, 6, 7, 8, 9, 1000]\n",
            "[2, 4, 6, 8, 10, 12, 14, 16, 18, 2000]\n",
            "[4, 8, 12, 16, 2000]\n"
          ],
          "name": "stdout"
        }
      ]
    },
    {
      "cell_type": "markdown",
      "metadata": {
        "id": "B5zep9s_PF3C"
      },
      "source": [
        "# Enumerate\r\n",
        "\r\n"
      ]
    },
    {
      "cell_type": "markdown",
      "metadata": {
        "id": "VsAmUjddSovy"
      },
      "source": [
        "Transforma uma lista em um objeto \"enumerate\", uma lista com o índice e o item do objeto na lista original\r\n",
        "\r\n",
        "\r\n",
        "\r\n"
      ]
    },
    {
      "cell_type": "code",
      "metadata": {
        "colab": {
          "base_uri": "https://localhost:8080/"
        },
        "id": "-bBjD4ZeSpAj",
        "outputId": "5d45ac19-d3f9-4306-9bea-7d4cc61738d5"
      },
      "source": [
        "lista =[\"abacate\",\"bola\",\"cachorro\"]\r\n",
        "\r\n",
        "for i, nome in enumerate(lista):\r\n",
        "  print(i,nome)"
      ],
      "execution_count": 8,
      "outputs": [
        {
          "output_type": "stream",
          "text": [
            "0 abacate\n",
            "1 bola\n",
            "2 cachorro\n"
          ],
          "name": "stdout"
        }
      ]
    },
    {
      "cell_type": "markdown",
      "metadata": {
        "id": "w0LY7pP2POjE"
      },
      "source": [
        "# Map"
      ]
    },
    {
      "cell_type": "code",
      "metadata": {
        "id": "az__QXjQTvJj"
      },
      "source": [
        "Aplica uma função a todos os elementos de uma lista"
      ],
      "execution_count": null,
      "outputs": []
    },
    {
      "cell_type": "markdown",
      "metadata": {
        "id": "utsRRweyTptj"
      },
      "source": [
        ""
      ]
    },
    {
      "cell_type": "code",
      "metadata": {
        "colab": {
          "base_uri": "https://localhost:8080/"
        },
        "id": "1MLdUvy1TqAU",
        "outputId": "08ee14a6-6435-408b-e476-c0e83d71878c"
      },
      "source": [
        "def dobro(x):\r\n",
        "  return x*2\r\n",
        "\r\n",
        "lista = [1,2,3,4,5]\r\n",
        "print(lista)\r\n",
        "\r\n",
        "print(dobro(lista)) # dessa forma a lista é dobrada, ou seja, os elementos são repetidos. Não é isso q eu quero\r\n",
        "\r\n",
        "valor_dobrado = list(map(dobro,lista)) #aplica a função 'dobro' a todos os itens da \"lista\" e retorna um \"map\". Para transformá-lo em \"lista\", uso o comanto \"list()\"\"\r\n",
        "print (valor_dobrado)"
      ],
      "execution_count": 15,
      "outputs": [
        {
          "output_type": "stream",
          "text": [
            "[1, 2, 3, 4, 5]\n",
            "[1, 2, 3, 4, 5, 1, 2, 3, 4, 5]\n",
            "[2, 4, 6, 8, 10]\n"
          ],
          "name": "stdout"
        }
      ]
    },
    {
      "cell_type": "markdown",
      "metadata": {
        "id": "2rA3V26DPTNa"
      },
      "source": [
        "# Reduce"
      ]
    },
    {
      "cell_type": "markdown",
      "metadata": {
        "id": "uFOaSd8nVYsP"
      },
      "source": [
        "Recebe uma lista e uma função e retorna um valor único, aplicando a função cumulativamente a cada elemento da lista"
      ]
    },
    {
      "cell_type": "code",
      "metadata": {
        "colab": {
          "base_uri": "https://localhost:8080/"
        },
        "id": "6a24x1GwVYdx",
        "outputId": "9637ab75-3381-4f28-cbb8-e3e6d5ceac75"
      },
      "source": [
        "from functools import reduce\r\n",
        "#from math import \r\n",
        "\r\n",
        "def funcao(a,b):\r\n",
        "  return a+b\r\n",
        "\r\n",
        "def menor(a,b):\r\n",
        "  if a<b:\r\n",
        "      return a\r\n",
        "  else:\r\n",
        "      return b\r\n",
        "\r\n",
        "\r\n",
        "lista = [1,2,3,4,5,6,7,8,9,10]\r\n",
        "\r\n",
        "#somando os itens de lista\r\n",
        "resultado = reduce(funcao,lista)\r\n",
        "print (resultado)\r\n",
        "\r\n",
        "resultado4= reduce(lambda a,b:a+b, lista) #usando uma funcao lambda\r\n",
        "print(resultado4)\r\n",
        "\r\n",
        "\r\n",
        "resultado2 = sum(lista) #Simples é melhor que complexo\r\n",
        "print (resultado2)\r\n",
        "\r\n",
        "#print (prod(lista)) #Cadê o prod?\r\n",
        "print (min(lista))\r\n",
        "print (max(lista))\r\n"
      ],
      "execution_count": 54,
      "outputs": [
        {
          "output_type": "stream",
          "text": [
            "55\n",
            "55\n",
            "55\n",
            "1\n",
            "10\n"
          ],
          "name": "stdout"
        }
      ]
    },
    {
      "cell_type": "markdown",
      "metadata": {
        "id": "YE5Lb350PXF7"
      },
      "source": [
        "# Zip"
      ]
    },
    {
      "cell_type": "markdown",
      "metadata": {
        "id": "ovNAfdfNgzhV"
      },
      "source": [
        "Combina duas ou mais listas em um único iterador"
      ]
    },
    {
      "cell_type": "code",
      "metadata": {
        "id": "lgZMn3C5gzUl",
        "outputId": "d50397e5-296b-4682-b967-7ee52a4ab9c9",
        "colab": {
          "base_uri": "https://localhost:8080/"
        }
      },
      "source": [
        "numeros = [1,2,3,4,5]\r\n",
        "palavras = [ \"abacate\",\"bola\",\"criança\",\"dado\",\"elefante\"]\r\n",
        "tamanhos=[\"p\",\"m\",\"g\",\"p\",\"g\"]\r\n",
        "\r\n",
        "for numero, palavra,tamanho in zip(numeros,palavras,tamanhos):\r\n",
        "  print(numero, palavra, tamanho)"
      ],
      "execution_count": 60,
      "outputs": [
        {
          "output_type": "stream",
          "text": [
            "1 abacate p\n",
            "2 bola m\n",
            "3 criança g\n",
            "4 dado p\n",
            "5 elefante g\n"
          ],
          "name": "stdout"
        }
      ]
    },
    {
      "cell_type": "markdown",
      "metadata": {
        "id": "7GveA8grPa1_"
      },
      "source": [
        "# Filter"
      ]
    },
    {
      "cell_type": "code",
      "metadata": {
        "id": "ftlTpR9Ji2q2",
        "outputId": "225d2402-c09c-44a7-972b-e4d4e1068415",
        "colab": {
          "base_uri": "https://localhost:8080/"
        }
      },
      "source": [
        "def dobro(i):  \r\n",
        "  if i%2 ==0:\r\n",
        "    return i\r\n",
        "\r\n",
        "def par(i):  \r\n",
        "  return i%2 ==0\r\n",
        "    #return i\r\n",
        "\r\n",
        "lista = [1,2,3,4,5,6,7,8,9,10]\r\n",
        "lista2=[i%2 for i in lista]\r\n",
        "print (lista2)\r\n",
        "\r\n",
        "lista3 = list( filter(par,lista))\r\n",
        "print(lista3)"
      ],
      "execution_count": 68,
      "outputs": [
        {
          "output_type": "stream",
          "text": [
            "[1, 0, 1, 0, 1, 0, 1, 0, 1, 0]\n",
            "[2, 4, 6, 8, 10]\n"
          ],
          "name": "stdout"
        }
      ]
    }
  ]
}
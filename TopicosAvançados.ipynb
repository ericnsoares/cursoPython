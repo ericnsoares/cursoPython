{
  "nbformat": 4,
  "nbformat_minor": 0,
  "metadata": {
    "colab": {
      "name": "TopicosAvançados.ipynb",
      "provenance": [],
      "authorship_tag": "ABX9TyNF16C1gs6AydLjsRk58l6q",
      "include_colab_link": true
    },
    "kernelspec": {
      "name": "python3",
      "display_name": "Python 3"
    }
  },
  "cells": [
    {
      "cell_type": "markdown",
      "metadata": {
        "id": "view-in-github",
        "colab_type": "text"
      },
      "source": [
        "<a href=\"https://colab.research.google.com/github/ericnsoares/cursoPython/blob/main/TopicosAvan%C3%A7ados.ipynb\" target=\"_parent\"><img src=\"https://colab.research.google.com/assets/colab-badge.svg\" alt=\"Open In Colab\"/></a>"
      ]
    },
    {
      "cell_type": "markdown",
      "metadata": {
        "id": "I98gaTNIPJ8_"
      },
      "source": [
        "# List Comprehension"
      ]
    },
    {
      "cell_type": "markdown",
      "metadata": {
        "id": "s6TRwx4PO6H9"
      },
      "source": [
        ""
      ]
    },
    {
      "cell_type": "code",
      "metadata": {
        "id": "n0pgRd5RO3zB"
      },
      "source": [
        ""
      ],
      "execution_count": null,
      "outputs": []
    },
    {
      "cell_type": "markdown",
      "metadata": {
        "id": "B5zep9s_PF3C"
      },
      "source": [
        "# Enumerate\r\n",
        "\r\n"
      ]
    },
    {
      "cell_type": "markdown",
      "metadata": {
        "id": "w0LY7pP2POjE"
      },
      "source": [
        "# Map"
      ]
    },
    {
      "cell_type": "markdown",
      "metadata": {
        "id": "2rA3V26DPTNa"
      },
      "source": [
        "# Reduce"
      ]
    },
    {
      "cell_type": "markdown",
      "metadata": {
        "id": "YE5Lb350PXF7"
      },
      "source": [
        "# Zip"
      ]
    },
    {
      "cell_type": "markdown",
      "metadata": {
        "id": "7GveA8grPa1_"
      },
      "source": [
        "# Filter"
      ]
    }
  ]
}
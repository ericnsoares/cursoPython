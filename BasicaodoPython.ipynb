{
  "nbformat": 4,
  "nbformat_minor": 0,
  "metadata": {
    "colab": {
      "name": "BasicaodoPython.ipynb",
      "provenance": [],
      "collapsed_sections": [],
      "toc_visible": true,
      "authorship_tag": "ABX9TyNZHbsc98L6XSeuUbhUlSxF",
      "include_colab_link": true
    },
    "kernelspec": {
      "name": "python3",
      "display_name": "Python 3"
    }
  },
  "cells": [
    {
      "cell_type": "markdown",
      "metadata": {
        "id": "view-in-github",
        "colab_type": "text"
      },
      "source": [
        "<a href=\"https://colab.research.google.com/github/ericnsoares/cursoPython/blob/main/BasicaodoPython.ipynb\" target=\"_parent\"><img src=\"https://colab.research.google.com/assets/colab-badge.svg\" alt=\"Open In Colab\"/></a>"
      ]
    },
    {
      "cell_type": "markdown",
      "metadata": {
        "id": "zijCYBSrzham"
      },
      "source": [
        "## **Basicão do Python**"
      ]
    },
    {
      "cell_type": "markdown",
      "metadata": {
        "id": "jcXO4_-3HLbG"
      },
      "source": [
        "# Comandos Básicos"
      ]
    },
    {
      "cell_type": "markdown",
      "metadata": {
        "id": "IeqeOTt2z1XA"
      },
      "source": [
        "Saída na tela com print e Comentários\r\n",
        "\r\n"
      ]
    },
    {
      "cell_type": "code",
      "metadata": {
        "colab": {
          "base_uri": "https://localhost:8080/"
        },
        "id": "o8YZLAQSvOU9",
        "outputId": "0f73f024-2253-4a97-8aad-e11bfa486772"
      },
      "source": [
        "print (\"olá mundo!!!\")\r\n",
        "# Comentário"
      ],
      "execution_count": null,
      "outputs": [
        {
          "output_type": "stream",
          "text": [
            "olá mundo!!!\n"
          ],
          "name": "stdout"
        }
      ]
    },
    {
      "cell_type": "markdown",
      "metadata": {
        "id": "f25SIgHEx5ld"
      },
      "source": [
        "Operações Matemáticas"
      ]
    },
    {
      "cell_type": "code",
      "metadata": {
        "colab": {
          "base_uri": "https://localhost:8080/"
        },
        "id": "bfM9GkwPx_KZ",
        "outputId": "cc0521d4-49ad-4164-c202-ab8e5c3b10d6"
      },
      "source": [
        "print(2 + 3) #soma\r\n",
        "print (2-3) #subtração\r\n",
        "print(2 * 3) #multiplicação\r\n",
        "print (2/3) #divisão\r\n",
        "print (2 % 3) #resto da divisão\r\n",
        "print(2 ** 3) #potencia"
      ],
      "execution_count": null,
      "outputs": [
        {
          "output_type": "stream",
          "text": [
            "5\n",
            "-1\n",
            "6\n",
            "0.6666666666666666\n",
            "2\n",
            "8\n"
          ],
          "name": "stdout"
        }
      ]
    },
    {
      "cell_type": "markdown",
      "metadata": {
        "id": "xNp7yaKr0DEY"
      },
      "source": [
        "Variáveis"
      ]
    },
    {
      "cell_type": "code",
      "metadata": {
        "colab": {
          "base_uri": "https://localhost:8080/"
        },
        "id": "0l5YF8fp0G7Z",
        "outputId": "64071af0-5286-4685-f511-a0ac322df9af"
      },
      "source": [
        "varString = \"Isso é uma String\"\r\n",
        "print (varString)\r\n",
        "\r\n",
        "varInteira = 1\r\n",
        "print(varInteira)\r\n",
        "\r\n",
        "varFloat = 1.0\r\n",
        "print(varFloat)\r\n",
        "\r\n",
        "varBooleana = True\r\n",
        "print(varBooleana)\r\n"
      ],
      "execution_count": null,
      "outputs": [
        {
          "output_type": "stream",
          "text": [
            "Isso é uma String\n",
            "1\n",
            "1.0\n",
            "True\n"
          ],
          "name": "stdout"
        }
      ]
    },
    {
      "cell_type": "markdown",
      "metadata": {
        "id": "ApXalY6X1L2x"
      },
      "source": [
        "Operadores Relacionais\r\n",
        "\r\n"
      ]
    },
    {
      "cell_type": "code",
      "metadata": {
        "colab": {
          "base_uri": "https://localhost:8080/"
        },
        "id": "0NAUT-7q1N9Y",
        "outputId": "67b53e9c-8fec-4499-f2eb-0362b1652f72"
      },
      "source": [
        "x = 2\r\n",
        "y = 3\r\n",
        "\r\n",
        "print(x==y) # x é igual a y?\r\n",
        "print(x<y) # x é menor q y?\r\n",
        "print (x >= y) # x é maior ou igual a y?"
      ],
      "execution_count": null,
      "outputs": [
        {
          "output_type": "stream",
          "text": [
            "False\n",
            "True\n",
            "False\n"
          ],
          "name": "stdout"
        }
      ]
    },
    {
      "cell_type": "markdown",
      "metadata": {
        "id": "VdgIpdPM2QFE"
      },
      "source": [
        "Operadores Lógicos"
      ]
    },
    {
      "cell_type": "code",
      "metadata": {
        "colab": {
          "base_uri": "https://localhost:8080/"
        },
        "id": "fd1zHrpS2Uee",
        "outputId": "324f7b3d-a1d1-4aa2-d83e-8ea31d036540"
      },
      "source": [
        "x = 2\r\n",
        "y = 3\r\n",
        "soma = x + y\r\n",
        "\r\n",
        "print (x==y and x==soma)\r\n",
        "print (x==y or x<soma)"
      ],
      "execution_count": null,
      "outputs": [
        {
          "output_type": "stream",
          "text": [
            "False\n",
            "True\n"
          ],
          "name": "stdout"
        }
      ]
    },
    {
      "cell_type": "markdown",
      "metadata": {
        "id": "z5vrhBC03pDM"
      },
      "source": [
        "Estruturas Condicionais"
      ]
    },
    {
      "cell_type": "code",
      "metadata": {
        "id": "3tfa6sN13rv-",
        "colab": {
          "base_uri": "https://localhost:8080/"
        },
        "outputId": "b6e187a1-5c5f-40c7-9501-f147a71cdca3"
      },
      "source": [
        "x=1\r\n",
        "y=-1\r\n",
        "\r\n",
        "# if <condicao>: <comandos> else:<comandos> \r\n",
        "if x < y:\r\n",
        "  print(\"x é menor que y\")\r\n",
        "else:\r\n",
        "  print(\"x é maior ou igual a y\")\r\n",
        "\r\n",
        "# if <condicao>: <comandos> elif <condicao>: <comandos> else:<comandos>\r\n",
        "if x < y:\r\n",
        "  print (\"x < y\")\r\n",
        "elif x == y:\r\n",
        "  print (\"x == y\")\r\n",
        "else:\r\n",
        "  print (\"x > y\")\r\n"
      ],
      "execution_count": null,
      "outputs": [
        {
          "output_type": "stream",
          "text": [
            "x é maior ou igual a y\n",
            "x > y\n"
          ],
          "name": "stdout"
        }
      ]
    },
    {
      "cell_type": "markdown",
      "metadata": {
        "id": "wCqs96Vl65iP"
      },
      "source": [
        "Laços de Repetição"
      ]
    },
    {
      "cell_type": "code",
      "metadata": {
        "id": "16ai4VUw67dH",
        "colab": {
          "base_uri": "https://localhost:8080/"
        },
        "outputId": "aee816e7-819b-4f0f-98bf-78752ab48220"
      },
      "source": [
        "#while <condicao>: <comandos>\r\n",
        "#executa <comandos> enquanto a condição for verdadeira\r\n",
        "print(\"WHILE\")\r\n",
        "x =1\r\n",
        "while x < 10:\r\n",
        "  print(x)\r\n",
        "  x=x+1\r\n",
        "\r\n",
        "#for <iterador> in <lista>: <comandos>\r\n",
        "#Varre os itens de uma lista\r\n",
        "print(\"\\nUm FOR básico\")\r\n",
        "lista1 = [1,2,3,4,5] # essa é uma lista\r\n",
        "lista2 = [\"ola\",\"mundo\",\"!\"]\r\n",
        "lista3 = [0,True,\"Olá mundo\"]\r\n",
        "\r\n",
        "for i in lista3:\r\n",
        "  print (i)\r\n",
        "\r\n",
        "print(\"\\nUm FOR com Range()\")\r\n",
        "#range(inicio, termino, passo)\r\n",
        "#for clássico com contador\r\n",
        "for i in range(10,20,1):\r\n",
        "  print (i)"
      ],
      "execution_count": null,
      "outputs": [
        {
          "output_type": "stream",
          "text": [
            "WHILE\n",
            "1\n",
            "2\n",
            "3\n",
            "4\n",
            "5\n",
            "6\n",
            "7\n",
            "8\n",
            "9\n",
            "\n",
            "Um FOR básico\n",
            "0\n",
            "True\n",
            "Olá mundo\n",
            "\n",
            "Um FOR com Range()\n",
            "10\n",
            "11\n",
            "12\n",
            "13\n",
            "14\n",
            "15\n",
            "16\n",
            "17\n",
            "18\n",
            "19\n"
          ],
          "name": "stdout"
        }
      ]
    },
    {
      "cell_type": "markdown",
      "metadata": {
        "id": "2gn8Rvnn9vIT"
      },
      "source": [
        "Strings"
      ]
    },
    {
      "cell_type": "code",
      "metadata": {
        "colab": {
          "base_uri": "https://localhost:8080/"
        },
        "id": "LoBEgH6w9wNi",
        "outputId": "204882cc-048a-4538-f548-cecdfa3c3d3a"
      },
      "source": [
        "#concatenação de strings\r\n",
        "str1 = \"Eric \"\r\n",
        "str2 = \"Nascimento \"\r\n",
        "str3 = \"Soares\"\r\n",
        "\r\n",
        "print (str1 + str2 + str3)\r\n",
        "\r\n",
        "\r\n",
        "print(\"\\n\")\r\n",
        "#tamanho de uma string\r\n",
        "print (len(str3))\r\n",
        "\r\n",
        "print(\"\\n\")\r\n",
        "#uma string é uma lista\r\n",
        "for i in str3:\r\n",
        "  print(i)\r\n",
        "\r\n",
        "print(\"\\n\")\r\n",
        "#uma substring\r\n",
        "print(str3[2:5]) #do caracter 2 até o 5\r\n",
        "print(str3[3:])  #tudo a partir do caracter 3\r\n",
        "print(str3[:3]) #tudo até o caracter 3\r\n",
        "\r\n",
        "print(\"\\n\")\r\n",
        "#métodos das Strings\r\n",
        "print(str1.lower())\r\n",
        "print(str2.upper())\r\n",
        "\r\n",
        "print(\"\\n\")\r\n",
        "#limpar espaços no inicio e fim\r\n",
        "var = \" ERIC \"\r\n",
        "print(var.strip())\r\n",
        "\r\n",
        "print(\"\\n\")\r\n",
        "#quebrar uma string\r\n",
        "meuNome = str1 +str2 + str3\r\n",
        "print (meuNome)\r\n",
        "print(str(len(meuNome))+\" itens\" )\r\n",
        "meuNomeSeparadoPorEspacos = meuNome.split(\" \")\r\n",
        "print(meuNomeSeparadoPorEspacos )\r\n",
        "print( str(len(meuNomeSeparadoPorEspacos))+\" itens\" )\r\n",
        "\r\n",
        "print(\"\\n\")\r\n",
        "#buscar uma substring\r\n",
        "busca = meuNome.find(\"Soa\",0)\r\n",
        "print(busca)\r\n",
        "print(meuNome[busca:])\r\n",
        "print(meuNome[:busca])\r\n",
        "\r\n",
        "print(\"\\n\")\r\n",
        "#trocar uma substring por outra\r\n",
        "meuNome = (meuNome.replace(\"o\",\"ei\")).replace(\"i\",\"a\")\r\n",
        "print(meuNome)"
      ],
      "execution_count": null,
      "outputs": [
        {
          "output_type": "stream",
          "text": [
            "Eric Nascimento Soares\n",
            "\n",
            "\n",
            "6\n",
            "\n",
            "\n",
            "S\n",
            "o\n",
            "a\n",
            "r\n",
            "e\n",
            "s\n",
            "\n",
            "\n",
            "are\n",
            "res\n",
            "Soa\n",
            "\n",
            "\n",
            "eric \n",
            "NASCIMENTO \n",
            "\n",
            "\n",
            "ERIC\n",
            "\n",
            "\n",
            "Eric Nascimento Soares\n",
            "22 itens\n",
            "['Eric', 'Nascimento', 'Soares']\n",
            "3 itens\n",
            "\n",
            "\n",
            "16\n",
            "Soares\n",
            "Eric Nascimento \n",
            "\n",
            "\n",
            "Erac Nascamentea Seaares\n"
          ],
          "name": "stdout"
        }
      ]
    },
    {
      "cell_type": "markdown",
      "metadata": {
        "id": "jjEYRlkCGpOs"
      },
      "source": [
        "# Funções"
      ]
    },
    {
      "cell_type": "markdown",
      "metadata": {
        "id": "Ufu6uUvXDVby"
      },
      "source": [
        "Funções"
      ]
    },
    {
      "cell_type": "code",
      "metadata": {
        "colab": {
          "base_uri": "https://localhost:8080/"
        },
        "id": "3BFq3gM6DWst",
        "outputId": "d69a5075-97dc-4085-c03d-ca6951afdc5a"
      },
      "source": [
        "#def NOME_DA_FUNCAO(<parametros>): <comandos> return <valor a retornar>\r\n",
        "\r\n",
        "def soma(a,b):\r\n",
        "  return a+b\r\n",
        "  \r\n",
        "print (soma(1,2))"
      ],
      "execution_count": null,
      "outputs": [
        {
          "output_type": "stream",
          "text": [
            "3\n"
          ],
          "name": "stdout"
        }
      ]
    },
    {
      "cell_type": "markdown",
      "metadata": {
        "id": "lyB3lRi7Gord"
      },
      "source": [
        "# Manipulação de Arquivos"
      ]
    },
    {
      "cell_type": "markdown",
      "metadata": {
        "id": "hVue0DIiFAYd"
      },
      "source": [
        "Arquivos"
      ]
    },
    {
      "cell_type": "code",
      "metadata": {
        "colab": {
          "base_uri": "https://localhost:8080/"
        },
        "id": "7oFyKFr8FBYg",
        "outputId": "7d128e45-669e-45a8-fb08-bab2018ad518"
      },
      "source": [
        "#abrindo arquivos\r\n",
        "#modos\r\n",
        "#'r'       open for reading (default)\r\n",
        "#'w'       open for writing, truncating the file first\r\n",
        "#'x'       create a new file and open it for writing\r\n",
        "#'a'       open for writing, appending to the end of the file if it exists\r\n",
        "#'b'       binary mode\r\n",
        "#'t'       text mode (default)\r\n",
        "#'+'       open a disk file for updating (reading and writing)\r\n",
        "\r\n",
        "w=open(\"meuArquivo.txt\",\"w\")\r\n",
        "w.write(str1)\r\n",
        "w.write(\"\\n\")\r\n",
        "w.write(str2)\r\n",
        "w.write(\"\\n\")\r\n",
        "w.write(str3)\r\n",
        "w.close()\r\n",
        "\r\n",
        "\r\n",
        "arquivo = open(\"meuArquivo.txt\")\r\n",
        "linhas = arquivo.readlines()\r\n",
        "print (linhas)\r\n",
        "for linha in linhas:\r\n",
        "  print(linha)\r\n",
        "\r\n",
        "\r\n",
        "\r\n",
        "\r\n"
      ],
      "execution_count": null,
      "outputs": [
        {
          "output_type": "stream",
          "text": [
            "['Eric \\n', 'Nascimento \\n', 'Soares']\n",
            "Eric \n",
            "\n",
            "Nascimento \n",
            "\n",
            "Soares\n"
          ],
          "name": "stdout"
        }
      ]
    },
    {
      "cell_type": "markdown",
      "metadata": {
        "id": "mVkx_qzlPupk"
      },
      "source": [
        "# Listas e Dicionários"
      ]
    },
    {
      "cell_type": "markdown",
      "metadata": {
        "id": "7LD-PsBkPlGM"
      },
      "source": [
        "Listas"
      ]
    },
    {
      "cell_type": "code",
      "metadata": {
        "colab": {
          "base_uri": "https://localhost:8080/"
        },
        "id": "aslXovZ6PktY",
        "outputId": "9e50529d-3d6f-4277-cd73-e9c16437624a"
      },
      "source": [
        "lista1 = [\"eric\",\"nascimento\",\"soares\"]\r\n",
        "lista2 = [\"pera\",\"uva\",\"maçã\"]\r\n",
        "lista3 = [1,2,3,True,\"Uva\"]\r\n",
        "\r\n",
        "listao = lista1 + lista2  #concatena várias listas\r\n",
        "print((lista1 + lista2 + lista3)[4])\r\n",
        "print(listao[4])\r\n",
        "\r\n",
        "print(\"\\n\")\r\n",
        "print(len(listao))\r\n",
        "listao.append(\"Cachorro\")\r\n",
        "print(listao)\r\n",
        "print(len(listao))\r\n",
        "\r\n",
        "print(\"\\n\")\r\n",
        "if \"uva\" in listao:\r\n",
        "  print(\"uva está no listão\")\r\n",
        "\r\n",
        "print(\"\\n\")\r\n",
        "listao.remove(\"Cachorro\")\r\n",
        "print(listao)\r\n",
        "\r\n",
        "print(\"\\n\")\r\n",
        "listao.sort()\r\n",
        "print(listao)\r\n",
        "\r\n",
        "print(\"\\n\")\r\n",
        "listao.sort(reverse=True)\r\n",
        "print(listao)\r\n",
        "\r\n"
      ],
      "execution_count": 89,
      "outputs": [
        {
          "output_type": "stream",
          "text": [
            "uva\n",
            "uva\n",
            "\n",
            "\n",
            "6\n",
            "['eric', 'nascimento', 'soares', 'pera', 'uva', 'maçã', 'Cachorro']\n",
            "7\n",
            "\n",
            "\n",
            "uva está no listão\n",
            "\n",
            "\n",
            "['eric', 'nascimento', 'soares', 'pera', 'uva', 'maçã']\n",
            "\n",
            "\n",
            "['eric', 'maçã', 'nascimento', 'pera', 'soares', 'uva']\n",
            "\n",
            "\n",
            "['uva', 'soares', 'pera', 'nascimento', 'maçã', 'eric']\n"
          ],
          "name": "stdout"
        }
      ]
    },
    {
      "cell_type": "markdown",
      "metadata": {
        "id": "q-1960QOSb1R"
      },
      "source": [
        "Dicionários"
      ]
    },
    {
      "cell_type": "code",
      "metadata": {
        "id": "iHFkPF_8SdSI",
        "colab": {
          "base_uri": "https://localhost:8080/"
        },
        "outputId": "51b5f62c-3dc9-4540-d3c3-7bf48f0ae961"
      },
      "source": [
        "#dicionarios são listas indexadas por uma chave ligada a um conteúdo\r\n",
        "#{\"chave0\":<conteudo>, \"chave1\":<conteudo>,...}\r\n",
        "dic={\"primoNome\":\"Eric\",\"sobrenome\":\"Nascimento\"}\r\n",
        "print(dic)\r\n",
        "print(dic[\"sobrenome\"])\r\n",
        "\r\n",
        "print(\"\\n\")\r\n",
        "dic2 = {\"nome\":{\"primeiroNome\":\"Eric\",\"nomeDoMeio\":\"Nascimento\",\"ultimoNome\":\"Soares\"},\"endereco\":[\"Emilia Sampaio\",\"83\",\"101\",\"Rio de Janeiro\"]}\r\n",
        "print(dic2)\r\n",
        "print(dic2[\"endereco\"])\r\n",
        "print(dic2[\"nome\"][\"nomeDoMeio\"])\r\n",
        "\r\n",
        "print(\"\\n\")\r\n",
        "for i in dic2:\r\n",
        "  print(i+ \" : \") \r\n",
        "  print(dic2[i])\r\n",
        "  \r\n"
      ],
      "execution_count": null,
      "outputs": [
        {
          "output_type": "stream",
          "text": [
            "{'primoNome': 'Eric', 'sobrenome': 'Nascimento'}\n",
            "Nascimento\n",
            "\n",
            "\n",
            "{'nome': {'primeiroNome': 'Eric', 'nomeDoMeio': 'Nascimento', 'ultimoNome': 'Soares'}, 'endereco': ['Emilia Sampaio', '83', '101', 'Rio de Janeiro']}\n",
            "['Emilia Sampaio', '83', '101', 'Rio de Janeiro']\n",
            "Nascimento\n",
            "\n",
            "\n",
            "nome : \n",
            "{'primeiroNome': 'Eric', 'nomeDoMeio': 'Nascimento', 'ultimoNome': 'Soares'}\n",
            "endereco : \n",
            "['Emilia Sampaio', '83', '101', 'Rio de Janeiro']\n"
          ],
          "name": "stdout"
        }
      ]
    },
    {
      "cell_type": "markdown",
      "metadata": {
        "id": "AyMsmcE_AyJR"
      },
      "source": [
        "# Números Aleatórios"
      ]
    },
    {
      "cell_type": "markdown",
      "metadata": {
        "id": "KlCBsQIw7tWI"
      },
      "source": [
        "Números Aleatórios"
      ]
    },
    {
      "cell_type": "code",
      "metadata": {
        "colab": {
          "base_uri": "https://localhost:8080/"
        },
        "id": "DOLlgdjR7y2h",
        "outputId": "6eb83fda-5f05-4612-ab98-70aa672c20eb"
      },
      "source": [
        "import random\r\n",
        "\r\n",
        "random.seed()\r\n",
        "numero = random.randint(0,10)\r\n",
        "print(numero)\r\n",
        "\r\n",
        "print(\"\\n\")\r\n",
        "random.seed(2) # fixa o 1o número aleatório gerado. Um número gera sempre o mesmo número.\r\n",
        "numero = random.randint(0,10)\r\n",
        "print(numero)\r\n",
        "\r\n",
        "random.seed(2)\r\n",
        "numero = random.randint(0,10)\r\n",
        "print(numero)\r\n",
        "\r\n",
        "print(\"\\n\")\r\n",
        "random.seed()\r\n",
        "lista = [2,4,6,8,10]\r\n",
        "numero = random.choice(lista) #sorteia o número a partir da lista fornecida\r\n",
        "print(numero)\r\n",
        "\r\n"
      ],
      "execution_count": 34,
      "outputs": [
        {
          "output_type": "stream",
          "text": [
            "4\n",
            "\n",
            "\n",
            "0\n",
            "0\n",
            "\n",
            "\n",
            "10\n"
          ],
          "name": "stdout"
        }
      ]
    },
    {
      "cell_type": "markdown",
      "metadata": {
        "id": "kJy03JKOA8Cd"
      },
      "source": [
        "# Exceções"
      ]
    },
    {
      "cell_type": "markdown",
      "metadata": {
        "id": "y3rCUXua-Dax"
      },
      "source": [
        "Tratamento de Exceções"
      ]
    },
    {
      "cell_type": "code",
      "metadata": {
        "colab": {
          "base_uri": "https://localhost:8080/"
        },
        "id": "ydBYLolu-FiF",
        "outputId": "3487a8c8-5b0f-407c-b579-43550d029af1"
      },
      "source": [
        "try:\r\n",
        "  a=int(input(\"digite o valor de A: \"))\r\n",
        "  b=int(input(\"Digite o valor de B: \"))\r\n",
        "except:\r\n",
        "  print(\"Valores inválidos. Somente inteiros são aceitos. USando valores default 2 e 4\")\r\n",
        "  a=2\r\n",
        "  b=4\r\n",
        "\r\n",
        "#try: <comandos> except:<comandos de tratamento da exceção>\r\n",
        "try:\r\n",
        "  print(a/b)\r\n",
        "except:\r\n",
        "  print (\"Erro de divisão\")\r\n",
        "\r\n",
        "print (a, b)  \r\n"
      ],
      "execution_count": 55,
      "outputs": [
        {
          "output_type": "stream",
          "text": [
            "digite o valor de A: 2\n",
            "Digite o valor de B: 0\n",
            "Erro de divisão\n",
            "2 0\n"
          ],
          "name": "stdout"
        }
      ]
    },
    {
      "cell_type": "markdown",
      "metadata": {
        "id": "0oSOymkZBQj8"
      },
      "source": [
        "# Exercícios"
      ]
    },
    {
      "cell_type": "markdown",
      "metadata": {
        "id": "ZTwzWuTGBWGm"
      },
      "source": [
        "Faça um programa que receba a idade do usuário e diga se ele é maior ou menor de idade."
      ]
    },
    {
      "cell_type": "code",
      "metadata": {
        "colab": {
          "base_uri": "https://localhost:8080/"
        },
        "id": "6YNRCU1h-3Ln",
        "outputId": "0e07494d-a926-4ea4-d924-92614da8bd72"
      },
      "source": [
        "try:\r\n",
        "  idade = int(input(\"Informe a sua idade: \"))\r\n",
        "except:\r\n",
        "  print(\"Valor informado deve ser um número inteiro. Usando o valor padrão 18.\")\r\n",
        "\r\n",
        "if idade >=18:\r\n",
        "  print(\"Você é maior de idade\")\r\n",
        "else:\r\n",
        "  print(\"Você é menor de idade\")"
      ],
      "execution_count": 61,
      "outputs": [
        {
          "output_type": "stream",
          "text": [
            "Informe a sua idade: fghgh\n",
            "Valor informado deve ser um número inteiro. Usando o valor padrão 18.\n",
            "Você é maior de idade\n"
          ],
          "name": "stdout"
        }
      ]
    },
    {
      "cell_type": "markdown",
      "metadata": {
        "id": "hXqICNmEBdcD"
      },
      "source": [
        "Faça um programa que receba duas notas digitadas pelo usuário. Se a nota for maior ou igual a seis, escreva aprovado, senão escreva reprovado."
      ]
    },
    {
      "cell_type": "code",
      "metadata": {
        "id": "QXPCycz6B9-B",
        "outputId": "dd0d1cac-0ec3-4d00-b39d-50c624e02e16",
        "colab": {
          "base_uri": "https://localhost:8080/"
        }
      },
      "source": [
        "try:\r\n",
        "  nota1 = float(input(\"digite a nota 1: \"))\r\n",
        "  nota2 = float(input(\"digite a nota 2: \"))\r\n",
        "except:\r\n",
        "  print(\"As notas devem ser números reais. Usando valores padrão 5.0 e 8.5\")\r\n",
        "  nota1=5.0\r\n",
        "  nota2=8.5\r\n",
        "\r\n",
        "if nota1 >= 6 and nota2 >=6:\r\n",
        "  print (\"Aprovado\")\r\n",
        "else:\r\n",
        "  print(\"Reprovado\")\r\n",
        "\r\n",
        "  "
      ],
      "execution_count": 68,
      "outputs": [
        {
          "output_type": "stream",
          "text": [
            "digite a nota 1: thyj\n",
            "As notas devem ser números reais. Usando valores padrão 5.0 e 8.5\n",
            "Reprovado\n"
          ],
          "name": "stdout"
        }
      ]
    },
    {
      "cell_type": "markdown",
      "metadata": {
        "id": "7VFhm4HLBhF3"
      },
      "source": [
        "Escreva um programa que resolva uma equação de segundo grau."
      ]
    },
    {
      "cell_type": "code",
      "metadata": {
        "id": "zX4-nLkgB_W_",
        "outputId": "bea8c4a7-956b-493d-b922-766eb1ec7d1b",
        "colab": {
          "base_uri": "https://localhost:8080/"
        }
      },
      "source": [
        "import math\r\n",
        "\r\n",
        "#equação do 2o grau: ax**2 + bx +c = 0.\r\n",
        "# x1 = -b+SQRT(Delta)/2*a\r\n",
        "# x2 = -b-SQRT(Delta)/2*a\r\n",
        "# Delta = b**2-4*a*c\r\n",
        "\r\n",
        "a=5\r\n",
        "b=-45\r\n",
        "c=0\r\n",
        "\r\n",
        "delta = (b**2)-(4*a*c)\r\n",
        "print(delta)\r\n",
        "\r\n",
        "if delta>=0:\r\n",
        "    x1 = (-b+math.sqrt(delta)) / (2*a)\r\n",
        "    x2 = (-b-math.sqrt(delta)) / (2*a)\r\n",
        "    print (x1,x2)\r\n",
        "else:\r\n",
        "    print(\"raizes não são reais\")\r\n"
      ],
      "execution_count": 86,
      "outputs": [
        {
          "output_type": "stream",
          "text": [
            "2025\n",
            "9.0 0.0\n"
          ],
          "name": "stdout"
        }
      ]
    },
    {
      "cell_type": "markdown",
      "metadata": {
        "id": "InDjrn6QBj16"
      },
      "source": [
        "Escreva um programa que ordene uma lista numérica com três elementos."
      ]
    },
    {
      "cell_type": "code",
      "metadata": {
        "id": "UoFvLh5wCARX",
        "outputId": "be415f15-693a-4c73-8415-7488b672f5c7",
        "colab": {
          "base_uri": "https://localhost:8080/"
        }
      },
      "source": [
        "lista= [5,88,-900]\r\n",
        "lista.sort()\r\n",
        "print (lista)\r\n"
      ],
      "execution_count": 90,
      "outputs": [
        {
          "output_type": "stream",
          "text": [
            "[-900, 5, 88]\n"
          ],
          "name": "stdout"
        }
      ]
    },
    {
      "cell_type": "markdown",
      "metadata": {
        "id": "ukyNZOSaBltK"
      },
      "source": [
        "Escreva um programa que receba dois números e um sinal, e faça a operação matemática definida pelo sinal."
      ]
    },
    {
      "cell_type": "code",
      "metadata": {
        "id": "ALQ1_HawCAyW",
        "outputId": "e54fa8b3-93c1-4cdf-9795-71cf0e694e59",
        "colab": {
          "base_uri": "https://localhost:8080/"
        }
      },
      "source": [
        "def realizarOperacao(a,b,oper):\r\n",
        "\r\n",
        "  if oper == \"+\":\r\n",
        "    print (a,\" + \" ,b, \" = \" ,a+b)\r\n",
        "  elif oper == \"-\":\r\n",
        "    print (a,\" - \", b, \" = \",a-b)\r\n",
        "  elif oper == \"*\":\r\n",
        "    print (a,\" * \" ,b, \" = \",a*b)\r\n",
        "  else:\r\n",
        "    try:\r\n",
        "      print (a,\" / \" ,b,\" = \" ,a/b)\r\n",
        "    except:\r\n",
        "      print (\"Operação inválida com esses valores\")\r\n",
        "\r\n",
        "\r\n",
        "operacoes = [\"+\", \"-\", \"/\", \"*\"]\r\n",
        "try:\r\n",
        "  numero1 = float(input(\"digite o 1o número: \"))\r\n",
        "  numero2 = float(input(\"digite o 2o número: \"))\r\n",
        "except:\r\n",
        "  print(\"Os números devem ser reais. Usando valores padrão 5.0 e 8.5\")\r\n",
        "  numero1=5.0\r\n",
        "  numero2=8.5\r\n",
        "\r\n",
        "operacao = input(\"Digite a operação (+, -, /, *):\")\r\n",
        "if operacao in operacoes:\r\n",
        "  realizarOperacao(numero1,numero2,operacao)\r\n",
        "\r\n",
        "else:\r\n",
        "  print(\"Operacao inexistente\")\r\n",
        "  \r\n",
        "  "
      ],
      "execution_count": 109,
      "outputs": [
        {
          "output_type": "stream",
          "text": [
            "digite o 1o número: 1\n",
            "digite o 2o número: 9\n",
            "Digite a operação (+, -, /, *):/\n",
            "1.0  /  9.0  =  0.1111111111111111\n"
          ],
          "name": "stdout"
        }
      ]
    }
  ]
}
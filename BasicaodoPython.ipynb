{
  "nbformat": 4,
  "nbformat_minor": 0,
  "metadata": {
    "colab": {
      "name": "BasicaodoPython.ipynb",
      "provenance": [],
      "collapsed_sections": [],
      "toc_visible": true,
      "authorship_tag": "ABX9TyPQk6VTS2ygS/ZteSiEGqQa",
      "include_colab_link": true
    },
    "kernelspec": {
      "name": "python3",
      "display_name": "Python 3"
    }
  },
  "cells": [
    {
      "cell_type": "markdown",
      "metadata": {
        "id": "view-in-github",
        "colab_type": "text"
      },
      "source": [
        "<a href=\"https://colab.research.google.com/github/ericnsoares/cursoPython/blob/main/BasicaodoPython.ipynb\" target=\"_parent\"><img src=\"https://colab.research.google.com/assets/colab-badge.svg\" alt=\"Open In Colab\"/></a>"
      ]
    },
    {
      "cell_type": "markdown",
      "metadata": {
        "id": "zijCYBSrzham"
      },
      "source": [
        "## **Basicão do Python**"
      ]
    },
    {
      "cell_type": "markdown",
      "metadata": {
        "id": "jcXO4_-3HLbG"
      },
      "source": [
        "# Comandos Básicos"
      ]
    },
    {
      "cell_type": "markdown",
      "metadata": {
        "id": "IeqeOTt2z1XA"
      },
      "source": [
        "Saída na tela com print e Comentários\r\n",
        "\r\n"
      ]
    },
    {
      "cell_type": "code",
      "metadata": {
        "colab": {
          "base_uri": "https://localhost:8080/"
        },
        "id": "o8YZLAQSvOU9",
        "outputId": "0f73f024-2253-4a97-8aad-e11bfa486772"
      },
      "source": [
        "print (\"olá mundo!!!\")\r\n",
        "# Comentário"
      ],
      "execution_count": null,
      "outputs": [
        {
          "output_type": "stream",
          "text": [
            "olá mundo!!!\n"
          ],
          "name": "stdout"
        }
      ]
    },
    {
      "cell_type": "markdown",
      "metadata": {
        "id": "f25SIgHEx5ld"
      },
      "source": [
        "Operações Matemáticas"
      ]
    },
    {
      "cell_type": "code",
      "metadata": {
        "colab": {
          "base_uri": "https://localhost:8080/"
        },
        "id": "bfM9GkwPx_KZ",
        "outputId": "cc0521d4-49ad-4164-c202-ab8e5c3b10d6"
      },
      "source": [
        "print(2 + 3) #soma\r\n",
        "print (2-3) #subtração\r\n",
        "print(2 * 3) #multiplicação\r\n",
        "print (2/3) #divisão\r\n",
        "print (2 % 3) #resto da divisão\r\n",
        "print(2 ** 3) #potencia"
      ],
      "execution_count": null,
      "outputs": [
        {
          "output_type": "stream",
          "text": [
            "5\n",
            "-1\n",
            "6\n",
            "0.6666666666666666\n",
            "2\n",
            "8\n"
          ],
          "name": "stdout"
        }
      ]
    },
    {
      "cell_type": "markdown",
      "metadata": {
        "id": "xNp7yaKr0DEY"
      },
      "source": [
        "Variáveis"
      ]
    },
    {
      "cell_type": "code",
      "metadata": {
        "colab": {
          "base_uri": "https://localhost:8080/"
        },
        "id": "0l5YF8fp0G7Z",
        "outputId": "64071af0-5286-4685-f511-a0ac322df9af"
      },
      "source": [
        "varString = \"Isso é uma String\"\r\n",
        "print (varString)\r\n",
        "\r\n",
        "varInteira = 1\r\n",
        "print(varInteira)\r\n",
        "\r\n",
        "varFloat = 1.0\r\n",
        "print(varFloat)\r\n",
        "\r\n",
        "varBooleana = True\r\n",
        "print(varBooleana)\r\n"
      ],
      "execution_count": null,
      "outputs": [
        {
          "output_type": "stream",
          "text": [
            "Isso é uma String\n",
            "1\n",
            "1.0\n",
            "True\n"
          ],
          "name": "stdout"
        }
      ]
    },
    {
      "cell_type": "markdown",
      "metadata": {
        "id": "ApXalY6X1L2x"
      },
      "source": [
        "Operadores Relacionais\r\n",
        "\r\n"
      ]
    },
    {
      "cell_type": "code",
      "metadata": {
        "colab": {
          "base_uri": "https://localhost:8080/"
        },
        "id": "0NAUT-7q1N9Y",
        "outputId": "67b53e9c-8fec-4499-f2eb-0362b1652f72"
      },
      "source": [
        "x = 2\r\n",
        "y = 3\r\n",
        "\r\n",
        "print(x==y) # x é igual a y?\r\n",
        "print(x<y) # x é menor q y?\r\n",
        "print (x >= y) # x é maior ou igual a y?"
      ],
      "execution_count": null,
      "outputs": [
        {
          "output_type": "stream",
          "text": [
            "False\n",
            "True\n",
            "False\n"
          ],
          "name": "stdout"
        }
      ]
    },
    {
      "cell_type": "markdown",
      "metadata": {
        "id": "VdgIpdPM2QFE"
      },
      "source": [
        "Operadores Lógicos"
      ]
    },
    {
      "cell_type": "code",
      "metadata": {
        "colab": {
          "base_uri": "https://localhost:8080/"
        },
        "id": "fd1zHrpS2Uee",
        "outputId": "324f7b3d-a1d1-4aa2-d83e-8ea31d036540"
      },
      "source": [
        "x = 2\r\n",
        "y = 3\r\n",
        "soma = x + y\r\n",
        "\r\n",
        "print (x==y and x==soma)\r\n",
        "print (x==y or x<soma)"
      ],
      "execution_count": null,
      "outputs": [
        {
          "output_type": "stream",
          "text": [
            "False\n",
            "True\n"
          ],
          "name": "stdout"
        }
      ]
    },
    {
      "cell_type": "markdown",
      "metadata": {
        "id": "z5vrhBC03pDM"
      },
      "source": [
        "Estruturas Condicionais"
      ]
    },
    {
      "cell_type": "code",
      "metadata": {
        "id": "3tfa6sN13rv-",
        "colab": {
          "base_uri": "https://localhost:8080/"
        },
        "outputId": "b6e187a1-5c5f-40c7-9501-f147a71cdca3"
      },
      "source": [
        "x=1\r\n",
        "y=-1\r\n",
        "\r\n",
        "# if <condicao>: <comandos> else:<comandos> \r\n",
        "if x < y:\r\n",
        "  print(\"x é menor que y\")\r\n",
        "else:\r\n",
        "  print(\"x é maior ou igual a y\")\r\n",
        "\r\n",
        "# if <condicao>: <comandos> elif <condicao>: <comandos> else:<comandos>\r\n",
        "if x < y:\r\n",
        "  print (\"x < y\")\r\n",
        "elif x == y:\r\n",
        "  print (\"x == y\")\r\n",
        "else:\r\n",
        "  print (\"x > y\")\r\n"
      ],
      "execution_count": null,
      "outputs": [
        {
          "output_type": "stream",
          "text": [
            "x é maior ou igual a y\n",
            "x > y\n"
          ],
          "name": "stdout"
        }
      ]
    },
    {
      "cell_type": "markdown",
      "metadata": {
        "id": "wCqs96Vl65iP"
      },
      "source": [
        "Laços de Repetição"
      ]
    },
    {
      "cell_type": "code",
      "metadata": {
        "id": "16ai4VUw67dH",
        "colab": {
          "base_uri": "https://localhost:8080/"
        },
        "outputId": "aee816e7-819b-4f0f-98bf-78752ab48220"
      },
      "source": [
        "#while <condicao>: <comandos>\r\n",
        "#executa <comandos> enquanto a condição for verdadeira\r\n",
        "print(\"WHILE\")\r\n",
        "x =1\r\n",
        "while x < 10:\r\n",
        "  print(x)\r\n",
        "  x=x+1\r\n",
        "\r\n",
        "#for <iterador> in <lista>: <comandos>\r\n",
        "#Varre os itens de uma lista\r\n",
        "print(\"\\nUm FOR básico\")\r\n",
        "lista1 = [1,2,3,4,5] # essa é uma lista\r\n",
        "lista2 = [\"ola\",\"mundo\",\"!\"]\r\n",
        "lista3 = [0,True,\"Olá mundo\"]\r\n",
        "\r\n",
        "for i in lista3:\r\n",
        "  print (i)\r\n",
        "\r\n",
        "print(\"\\nUm FOR com Range()\")\r\n",
        "#range(inicio, termino, passo)\r\n",
        "#for clássico com contador\r\n",
        "for i in range(10,20,1):\r\n",
        "  print (i)"
      ],
      "execution_count": 8,
      "outputs": [
        {
          "output_type": "stream",
          "text": [
            "WHILE\n",
            "1\n",
            "2\n",
            "3\n",
            "4\n",
            "5\n",
            "6\n",
            "7\n",
            "8\n",
            "9\n",
            "\n",
            "Um FOR básico\n",
            "0\n",
            "True\n",
            "Olá mundo\n",
            "\n",
            "Um FOR com Range()\n",
            "10\n",
            "11\n",
            "12\n",
            "13\n",
            "14\n",
            "15\n",
            "16\n",
            "17\n",
            "18\n",
            "19\n"
          ],
          "name": "stdout"
        }
      ]
    },
    {
      "cell_type": "markdown",
      "metadata": {
        "id": "2gn8Rvnn9vIT"
      },
      "source": [
        "Strings"
      ]
    },
    {
      "cell_type": "code",
      "metadata": {
        "colab": {
          "base_uri": "https://localhost:8080/"
        },
        "id": "LoBEgH6w9wNi",
        "outputId": "204882cc-048a-4538-f548-cecdfa3c3d3a"
      },
      "source": [
        "#concatenação de strings\r\n",
        "str1 = \"Eric \"\r\n",
        "str2 = \"Nascimento \"\r\n",
        "str3 = \"Soares\"\r\n",
        "\r\n",
        "print (str1 + str2 + str3)\r\n",
        "\r\n",
        "\r\n",
        "print(\"\\n\")\r\n",
        "#tamanho de uma string\r\n",
        "print (len(str3))\r\n",
        "\r\n",
        "print(\"\\n\")\r\n",
        "#uma string é uma lista\r\n",
        "for i in str3:\r\n",
        "  print(i)\r\n",
        "\r\n",
        "print(\"\\n\")\r\n",
        "#uma substring\r\n",
        "print(str3[2:5]) #do caracter 2 até o 5\r\n",
        "print(str3[3:])  #tudo a partir do caracter 3\r\n",
        "print(str3[:3]) #tudo até o caracter 3\r\n",
        "\r\n",
        "print(\"\\n\")\r\n",
        "#métodos das Strings\r\n",
        "print(str1.lower())\r\n",
        "print(str2.upper())\r\n",
        "\r\n",
        "print(\"\\n\")\r\n",
        "#limpar espaços no inicio e fim\r\n",
        "var = \" ERIC \"\r\n",
        "print(var.strip())\r\n",
        "\r\n",
        "print(\"\\n\")\r\n",
        "#quebrar uma string\r\n",
        "meuNome = str1 +str2 + str3\r\n",
        "print (meuNome)\r\n",
        "print(str(len(meuNome))+\" itens\" )\r\n",
        "meuNomeSeparadoPorEspacos = meuNome.split(\" \")\r\n",
        "print(meuNomeSeparadoPorEspacos )\r\n",
        "print( str(len(meuNomeSeparadoPorEspacos))+\" itens\" )\r\n",
        "\r\n",
        "print(\"\\n\")\r\n",
        "#buscar uma substring\r\n",
        "busca = meuNome.find(\"Soa\",0)\r\n",
        "print(busca)\r\n",
        "print(meuNome[busca:])\r\n",
        "print(meuNome[:busca])\r\n",
        "\r\n",
        "print(\"\\n\")\r\n",
        "#trocar uma substring por outra\r\n",
        "meuNome = (meuNome.replace(\"o\",\"ei\")).replace(\"i\",\"a\")\r\n",
        "print(meuNome)"
      ],
      "execution_count": 39,
      "outputs": [
        {
          "output_type": "stream",
          "text": [
            "Eric Nascimento Soares\n",
            "\n",
            "\n",
            "6\n",
            "\n",
            "\n",
            "S\n",
            "o\n",
            "a\n",
            "r\n",
            "e\n",
            "s\n",
            "\n",
            "\n",
            "are\n",
            "res\n",
            "Soa\n",
            "\n",
            "\n",
            "eric \n",
            "NASCIMENTO \n",
            "\n",
            "\n",
            "ERIC\n",
            "\n",
            "\n",
            "Eric Nascimento Soares\n",
            "22 itens\n",
            "['Eric', 'Nascimento', 'Soares']\n",
            "3 itens\n",
            "\n",
            "\n",
            "16\n",
            "Soares\n",
            "Eric Nascimento \n",
            "\n",
            "\n",
            "Erac Nascamentea Seaares\n"
          ],
          "name": "stdout"
        }
      ]
    },
    {
      "cell_type": "markdown",
      "metadata": {
        "id": "jjEYRlkCGpOs"
      },
      "source": [
        "# Funções"
      ]
    },
    {
      "cell_type": "markdown",
      "metadata": {
        "id": "Ufu6uUvXDVby"
      },
      "source": [
        "Funções"
      ]
    },
    {
      "cell_type": "code",
      "metadata": {
        "colab": {
          "base_uri": "https://localhost:8080/"
        },
        "id": "3BFq3gM6DWst",
        "outputId": "d69a5075-97dc-4085-c03d-ca6951afdc5a"
      },
      "source": [
        "#def NOME_DA_FUNCAO(<parametros>): <comandos> return <valor a retornar>\r\n",
        "\r\n",
        "def soma(a,b):\r\n",
        "  return a+b\r\n",
        "  \r\n",
        "print (soma(1,2))"
      ],
      "execution_count": 49,
      "outputs": [
        {
          "output_type": "stream",
          "text": [
            "3\n"
          ],
          "name": "stdout"
        }
      ]
    },
    {
      "cell_type": "markdown",
      "metadata": {
        "id": "lyB3lRi7Gord"
      },
      "source": [
        "# Manipulação de Arquivos"
      ]
    },
    {
      "cell_type": "markdown",
      "metadata": {
        "id": "hVue0DIiFAYd"
      },
      "source": [
        "Arquivos"
      ]
    },
    {
      "cell_type": "code",
      "metadata": {
        "colab": {
          "base_uri": "https://localhost:8080/"
        },
        "id": "7oFyKFr8FBYg",
        "outputId": "4dad7faa-7f0c-405b-ad7c-7f8f6b572b92"
      },
      "source": [
        "#abrindo arquivos\r\n",
        "#modos\r\n",
        "#'r'       open for reading (default)\r\n",
        "#'w'       open for writing, truncating the file first\r\n",
        "#'x'       create a new file and open it for writing\r\n",
        "#'a'       open for writing, appending to the end of the file if it exists\r\n",
        "#'b'       binary mode\r\n",
        "#'t'       text mode (default)\r\n",
        "#'+'       open a disk file for updating (reading and writing)\r\n",
        "\r\n",
        "w=open(\"meuArquivo.txt\",\"w\")\r\n",
        "print(w)\r\n",
        "\r\n",
        "arquivo = open(\"meuArquivo.txt\")\r\n",
        "print(arquivo)\r\n",
        "\r\n",
        "\r\n",
        "\r\n"
      ],
      "execution_count": 60,
      "outputs": [
        {
          "output_type": "stream",
          "text": [
            "<_io.TextIOWrapper name='meuArquivo.txt' mode='w' encoding='UTF-8'>\n",
            "<_io.TextIOWrapper name='meuArquivo.txt' mode='r' encoding='UTF-8'>\n"
          ],
          "name": "stdout"
        }
      ]
    }
  ]
}